{
 "cells": [
  {
   "cell_type": "code",
   "execution_count": 1,
   "id": "6be0c41c",
   "metadata": {},
   "outputs": [
    {
     "name": "stdout",
     "output_type": "stream",
     "text": [
      "Este programa encuentra una raíz, por el método de aproximaciones sucesivas\n",
      "Introduce la cota de error0.01\n",
      "Introduce la cantidad de iteraciones5\n",
      "la iteracion: 1 nos da una raiz de: 1.0 con una cota de error de: 1.0\n",
      "la iteracion: 2 nos da una raiz de: 0.36787944117144233 con una cota de error de: 1.718281828459045\n",
      "la iteracion: 3 nos da una raiz de: 0.6922006275553464 con una cota de error de: 0.46853639461338437\n",
      "la iteracion: 4 nos da una raiz de: 0.5004735005636368 con una cota de error de: 0.3830914659333314\n",
      "la iteracion: 5 nos da una raiz de: 0.6062435350855974 con una cota de error de: 0.17446789681151248\n",
      "la iteracion: 6 nos da una raiz de: 0.545395785975027 con una cota de error de: 0.11156622525381316\n",
      "\n",
      "la solucion de la funcion dada por el metodo de aproximaciones sucesivas es: 0.545395785975027\n",
      "se hicieron 6 iteraciones\n"
     ]
    }
   ],
   "source": [
    "import math\n",
    "def g(x):\n",
    "    y=math.exp( -x )\n",
    "    return (y)\n",
    "#Programa principal\n",
    "print (\"Este programa encuentra una raíz, por el método de aproximaciones sucesivas\")\n",
    "xi=0\n",
    "error=float((input('Introduce la cota de error')))\n",
    "iteraciones=float((input('Introduce la cantidad de iteraciones')))\n",
    "lim=0\n",
    "cota=0\n",
    "while abs((g(xi)-xi)/g(xi)) > error and lim<iteraciones:\n",
    "    lim+=1\n",
    "    cota=abs((g(xi)-xi)/g(xi))\n",
    "    xi=g(xi)\n",
    "    print('la iteracion: '+str(lim)+' nos da una raiz de: '+str(xi)+' con una cota de error de: '+str(cota))\n",
    "cota=abs((g(xi)-xi)/g(xi))\n",
    "print('la iteracion: '+str(lim+1)+' nos da una raiz de: '+str(g(xi))+' con una cota de error de: '+str(cota))\n",
    "print()\n",
    "print('la solucion de la funcion dada por el metodo de aproximaciones sucesivas es: '+str(g(xi)))\n",
    "print('se hicieron '+str(lim+1)+\" iteraciones\")"
   ]
  },
  {
   "cell_type": "code",
   "execution_count": null,
   "id": "7c56d29b",
   "metadata": {},
   "outputs": [],
   "source": []
  }
 ],
 "metadata": {
  "kernelspec": {
   "display_name": "Python 3",
   "language": "python",
   "name": "python3"
  },
  "language_info": {
   "codemirror_mode": {
    "name": "ipython",
    "version": 3
   },
   "file_extension": ".py",
   "mimetype": "text/x-python",
   "name": "python",
   "nbconvert_exporter": "python",
   "pygments_lexer": "ipython3",
   "version": "3.9.4"
  }
 },
 "nbformat": 4,
 "nbformat_minor": 5
}
